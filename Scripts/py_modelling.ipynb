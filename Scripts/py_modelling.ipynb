{
  "nbformat": 4,
  "nbformat_minor": 0,
  "metadata": {
    "colab": {
      "name": "Survival_Analysis.ipynb",
      "provenance": []
    },
    "kernelspec": {
      "name": "python3",
      "display_name": "Python 3"
    },
    "language_info": {
      "name": "python"
    }
  },
  "cells": [
    {
      "cell_type": "code",
      "metadata": {
        "colab": {
          "base_uri": "https://localhost:8080/"
        },
        "id": "asuqZ4MQgfEh",
        "outputId": "aa7f03cd-339c-488a-9eba-c4e911048835"
      },
      "source": [
        "# Mounting your personal Gdrive to the Colab notebook\n",
        "from google.colab import drive\n",
        "drive.mount('/gdrive',force_remount=True)"
      ],
      "execution_count": 1,
      "outputs": [
        {
          "output_type": "stream",
          "name": "stdout",
          "text": [
            "Mounted at /gdrive\n"
          ]
        }
      ]
    },
    {
      "cell_type": "code",
      "metadata": {
        "id": "vqFsRVZOggdp"
      },
      "source": [
        "import pandas as pd"
      ],
      "execution_count": 3,
      "outputs": []
    },
    {
      "cell_type": "markdown",
      "metadata": {
        "id": "2th5rqGRhpUV"
      },
      "source": [
        "# Data Prep\n"
      ]
    },
    {
      "cell_type": "code",
      "metadata": {
        "id": "yPuzxBiHfYOL"
      },
      "source": [
        "# Reading\n",
        "cali_wf_data = pd.read_csv('/gdrive/My Drive/CDSS-Hackathon-21/daily_aqi_2020_cali_wf.csv', index_col=0)"
      ],
      "execution_count": 12,
      "outputs": []
    },
    {
      "cell_type": "code",
      "metadata": {
        "id": "0WFc5Hs-ifhz"
      },
      "source": [
        "# Reading\n",
        "so2_aq_data_21 = pd.read_csv('/gdrive/My Drive/CDSS-Hackathon-21/EPA-AQI/daily_42401_2021.csv', index_col=0)\n",
        "so2_aq_data_20 = pd.read_csv('/gdrive/My Drive/CDSS-Hackathon-21/EPA-AQI/daily_42401_2020.csv', index_col=0)\n",
        "so2_aq_data_19 = pd.read_csv('/gdrive/My Drive/CDSS-Hackathon-21/EPA-AQI/daily_42401_2019.csv', index_col=0)\n",
        "so2_aq_data_18 = pd.read_csv('/gdrive/My Drive/CDSS-Hackathon-21/EPA-AQI/daily_42401_2018.csv', index_col=0)\n",
        "\n",
        "so2_aq_data = so2_aq_data_21.append(so2_aq_data_20)\n",
        "so2_aq_data = so2_aq_data.append(so2_aq_data_19)\n",
        "so2_aq_data = so2_aq_data.append(so2_aq_data_18)\n",
        "\n",
        "so2_aq_data.reset_index(level=0, inplace=True)"
      ],
      "execution_count": 29,
      "outputs": []
    },
    {
      "cell_type": "code",
      "metadata": {
        "id": "lJaABovRl2JL"
      },
      "source": [
        "so2_aq_data.columns= ['state_code', 'county_code', 'site_num', 'parameter_code', 'poc',\n",
        "       'latitude', 'longitude', 'datum', 'parameter_name', 'sample_duration',\n",
        "       'pollutant_standard', 'date_local', 'units_of_measure', 'event_type',\n",
        "       'observation_count', 'observation_percent', 'arithmetic_mean',\n",
        "       'lst_max_value', 'lst_max_hour', 'aqi', 'method_code', 'method_name',\n",
        "       'local_site_name', 'address', 'state_name', 'county_name', 'city_name',\n",
        "       'cbsa_name', 'date_of_last_change']"
      ],
      "execution_count": 41,
      "outputs": []
    },
    {
      "cell_type": "code",
      "metadata": {
        "id": "LUBaQMGLi_nR"
      },
      "source": [
        "# Standardizing Column names\n",
        "# so2\n",
        "so2_aq_data.columns = so2_aq_data.columns.str.replace(' ', '_') # replacing spaces (' ') with  underscore.\n",
        "so2_aq_data.columns = so2_aq_data.columns.str.replace('-', '_') # replacing hyphens ('-') with underscore\n",
        "so2_aq_data.columns= so2_aq_data.columns.str.lower() # converting column names to lower case"
      ],
      "execution_count": 31,
      "outputs": []
    },
    {
      "cell_type": "code",
      "metadata": {
        "id": "pBOHBPK-jDuf"
      },
      "source": [
        "# Standardizing Column names\n",
        "# so2\n",
        "cali_wf_data.columns = cali_wf_data.columns.str.replace(' ', '_') # replacing spaces (' ') with  underscore.\n",
        "cali_wf_data.columns = cali_wf_data.columns.str.replace('-', '_') # replacing hyphens ('-') with underscore\n",
        "cali_wf_data.columns = cali_wf_data.columns.str.replace('.', '_') # replacing hyphens ('-') with underscore\n",
        "cali_wf_data.columns= cali_wf_data.columns.str.lower() # converting column names to lower case"
      ],
      "execution_count": 20,
      "outputs": []
    },
    {
      "cell_type": "code",
      "metadata": {
        "colab": {
          "base_uri": "https://localhost:8080/"
        },
        "id": "aqLXua58mo6i",
        "outputId": "525a795d-7398-496a-fa4d-5eda9980a631"
      },
      "source": [
        "cali_wf_data.columns"
      ],
      "execution_count": 34,
      "outputs": [
        {
          "output_type": "execute_result",
          "data": {
            "text/plain": [
              "Index(['state_name', 'county_name', 'state_code', 'county_code', 'date', 'aqi',\n",
              "       'category', 'defining_parameter', 'defining_site',\n",
              "       'number_of_sites_reporting', 'fire_name', 'start_date', 'day_diff'],\n",
              "      dtype='object')"
            ]
          },
          "metadata": {},
          "execution_count": 34
        }
      ]
    },
    {
      "cell_type": "code",
      "metadata": {
        "colab": {
          "base_uri": "https://localhost:8080/",
          "height": 346
        },
        "id": "7bQm0OHthtx7",
        "outputId": "bb25b211-6e9c-41e9-ce12-09dc2294950e"
      },
      "source": [
        "cali_wf_data_aug = pd.merge(cali_wf_date, so2_aq_data, left_on=['county_name','state_name','date'], right_on= ['county_name','state_name','date'], how='left')"
      ],
      "execution_count": 26,
      "outputs": [
        {
          "output_type": "error",
          "ename": "KeyError",
          "evalue": "ignored",
          "traceback": [
            "\u001b[0;31m---------------------------------------------------------------------------\u001b[0m",
            "\u001b[0;31mKeyError\u001b[0m                                  Traceback (most recent call last)",
            "\u001b[0;32m<ipython-input-26-f2befcee25d6>\u001b[0m in \u001b[0;36m<module>\u001b[0;34m()\u001b[0m\n\u001b[0;32m----> 1\u001b[0;31m \u001b[0mcali_wf_data_aug\u001b[0m \u001b[0;34m=\u001b[0m \u001b[0mpd\u001b[0m\u001b[0;34m.\u001b[0m\u001b[0mmerge\u001b[0m\u001b[0;34m(\u001b[0m\u001b[0mcali_wf_date\u001b[0m\u001b[0;34m,\u001b[0m \u001b[0mso2_aq_data\u001b[0m\u001b[0;34m,\u001b[0m \u001b[0mleft_on\u001b[0m\u001b[0;34m=\u001b[0m\u001b[0;34m[\u001b[0m\u001b[0;34m'county_name'\u001b[0m\u001b[0;34m,\u001b[0m\u001b[0;34m'state_name'\u001b[0m\u001b[0;34m,\u001b[0m\u001b[0;34m'date'\u001b[0m\u001b[0;34m]\u001b[0m\u001b[0;34m,\u001b[0m \u001b[0mright_on\u001b[0m\u001b[0;34m=\u001b[0m \u001b[0;34m[\u001b[0m\u001b[0;34m'county_name'\u001b[0m\u001b[0;34m,\u001b[0m\u001b[0;34m'state_name'\u001b[0m\u001b[0;34m,\u001b[0m\u001b[0;34m'date'\u001b[0m\u001b[0;34m]\u001b[0m\u001b[0;34m,\u001b[0m \u001b[0mhow\u001b[0m\u001b[0;34m=\u001b[0m\u001b[0;34m'left'\u001b[0m\u001b[0;34m)\u001b[0m\u001b[0;34m\u001b[0m\u001b[0;34m\u001b[0m\u001b[0m\n\u001b[0m\u001b[1;32m      2\u001b[0m \u001b[0;31m#left_on=['county_name','state_name','year'], right_on= ['county','state','year']\u001b[0m\u001b[0;34m\u001b[0m\u001b[0;34m\u001b[0m\u001b[0;34m\u001b[0m\u001b[0m\n",
            "\u001b[0;32m/usr/local/lib/python3.7/dist-packages/pandas/core/reshape/merge.py\u001b[0m in \u001b[0;36mmerge\u001b[0;34m(left, right, how, on, left_on, right_on, left_index, right_index, sort, suffixes, copy, indicator, validate)\u001b[0m\n\u001b[1;32m     85\u001b[0m         \u001b[0mcopy\u001b[0m\u001b[0;34m=\u001b[0m\u001b[0mcopy\u001b[0m\u001b[0;34m,\u001b[0m\u001b[0;34m\u001b[0m\u001b[0;34m\u001b[0m\u001b[0m\n\u001b[1;32m     86\u001b[0m         \u001b[0mindicator\u001b[0m\u001b[0;34m=\u001b[0m\u001b[0mindicator\u001b[0m\u001b[0;34m,\u001b[0m\u001b[0;34m\u001b[0m\u001b[0;34m\u001b[0m\u001b[0m\n\u001b[0;32m---> 87\u001b[0;31m         \u001b[0mvalidate\u001b[0m\u001b[0;34m=\u001b[0m\u001b[0mvalidate\u001b[0m\u001b[0;34m,\u001b[0m\u001b[0;34m\u001b[0m\u001b[0;34m\u001b[0m\u001b[0m\n\u001b[0m\u001b[1;32m     88\u001b[0m     )\n\u001b[1;32m     89\u001b[0m     \u001b[0;32mreturn\u001b[0m \u001b[0mop\u001b[0m\u001b[0;34m.\u001b[0m\u001b[0mget_result\u001b[0m\u001b[0;34m(\u001b[0m\u001b[0;34m)\u001b[0m\u001b[0;34m\u001b[0m\u001b[0;34m\u001b[0m\u001b[0m\n",
            "\u001b[0;32m/usr/local/lib/python3.7/dist-packages/pandas/core/reshape/merge.py\u001b[0m in \u001b[0;36m__init__\u001b[0;34m(self, left, right, how, on, left_on, right_on, axis, left_index, right_index, sort, suffixes, copy, indicator, validate)\u001b[0m\n\u001b[1;32m    650\u001b[0m             \u001b[0mself\u001b[0m\u001b[0;34m.\u001b[0m\u001b[0mright_join_keys\u001b[0m\u001b[0;34m,\u001b[0m\u001b[0;34m\u001b[0m\u001b[0;34m\u001b[0m\u001b[0m\n\u001b[1;32m    651\u001b[0m             \u001b[0mself\u001b[0m\u001b[0;34m.\u001b[0m\u001b[0mjoin_names\u001b[0m\u001b[0;34m,\u001b[0m\u001b[0;34m\u001b[0m\u001b[0;34m\u001b[0m\u001b[0m\n\u001b[0;32m--> 652\u001b[0;31m         ) = self._get_merge_keys()\n\u001b[0m\u001b[1;32m    653\u001b[0m \u001b[0;34m\u001b[0m\u001b[0m\n\u001b[1;32m    654\u001b[0m         \u001b[0;31m# validate the merge keys dtypes. We may need to coerce\u001b[0m\u001b[0;34m\u001b[0m\u001b[0;34m\u001b[0m\u001b[0;34m\u001b[0m\u001b[0m\n",
            "\u001b[0;32m/usr/local/lib/python3.7/dist-packages/pandas/core/reshape/merge.py\u001b[0m in \u001b[0;36m_get_merge_keys\u001b[0;34m(self)\u001b[0m\n\u001b[1;32m   1016\u001b[0m                         \u001b[0mright_keys\u001b[0m\u001b[0;34m.\u001b[0m\u001b[0mappend\u001b[0m\u001b[0;34m(\u001b[0m\u001b[0mrk\u001b[0m\u001b[0;34m)\u001b[0m\u001b[0;34m\u001b[0m\u001b[0;34m\u001b[0m\u001b[0m\n\u001b[1;32m   1017\u001b[0m                     \u001b[0;32mif\u001b[0m \u001b[0mlk\u001b[0m \u001b[0;32mis\u001b[0m \u001b[0;32mnot\u001b[0m \u001b[0;32mNone\u001b[0m\u001b[0;34m:\u001b[0m\u001b[0;34m\u001b[0m\u001b[0;34m\u001b[0m\u001b[0m\n\u001b[0;32m-> 1018\u001b[0;31m                         \u001b[0mleft_keys\u001b[0m\u001b[0;34m.\u001b[0m\u001b[0mappend\u001b[0m\u001b[0;34m(\u001b[0m\u001b[0mleft\u001b[0m\u001b[0;34m.\u001b[0m\u001b[0m_get_label_or_level_values\u001b[0m\u001b[0;34m(\u001b[0m\u001b[0mlk\u001b[0m\u001b[0;34m)\u001b[0m\u001b[0;34m)\u001b[0m\u001b[0;34m\u001b[0m\u001b[0;34m\u001b[0m\u001b[0m\n\u001b[0m\u001b[1;32m   1019\u001b[0m                         \u001b[0mjoin_names\u001b[0m\u001b[0;34m.\u001b[0m\u001b[0mappend\u001b[0m\u001b[0;34m(\u001b[0m\u001b[0mlk\u001b[0m\u001b[0;34m)\u001b[0m\u001b[0;34m\u001b[0m\u001b[0;34m\u001b[0m\u001b[0m\n\u001b[1;32m   1020\u001b[0m                     \u001b[0;32melse\u001b[0m\u001b[0;34m:\u001b[0m\u001b[0;34m\u001b[0m\u001b[0;34m\u001b[0m\u001b[0m\n",
            "\u001b[0;32m/usr/local/lib/python3.7/dist-packages/pandas/core/generic.py\u001b[0m in \u001b[0;36m_get_label_or_level_values\u001b[0;34m(self, key, axis)\u001b[0m\n\u001b[1;32m   1561\u001b[0m             \u001b[0mvalues\u001b[0m \u001b[0;34m=\u001b[0m \u001b[0mself\u001b[0m\u001b[0;34m.\u001b[0m\u001b[0maxes\u001b[0m\u001b[0;34m[\u001b[0m\u001b[0maxis\u001b[0m\u001b[0;34m]\u001b[0m\u001b[0;34m.\u001b[0m\u001b[0mget_level_values\u001b[0m\u001b[0;34m(\u001b[0m\u001b[0mkey\u001b[0m\u001b[0;34m)\u001b[0m\u001b[0;34m.\u001b[0m\u001b[0m_values\u001b[0m\u001b[0;34m\u001b[0m\u001b[0;34m\u001b[0m\u001b[0m\n\u001b[1;32m   1562\u001b[0m         \u001b[0;32melse\u001b[0m\u001b[0;34m:\u001b[0m\u001b[0;34m\u001b[0m\u001b[0;34m\u001b[0m\u001b[0m\n\u001b[0;32m-> 1563\u001b[0;31m             \u001b[0;32mraise\u001b[0m \u001b[0mKeyError\u001b[0m\u001b[0;34m(\u001b[0m\u001b[0mkey\u001b[0m\u001b[0;34m)\u001b[0m\u001b[0;34m\u001b[0m\u001b[0;34m\u001b[0m\u001b[0m\n\u001b[0m\u001b[1;32m   1564\u001b[0m \u001b[0;34m\u001b[0m\u001b[0m\n\u001b[1;32m   1565\u001b[0m         \u001b[0;31m# Check for duplicates\u001b[0m\u001b[0;34m\u001b[0m\u001b[0;34m\u001b[0m\u001b[0;34m\u001b[0m\u001b[0m\n",
            "\u001b[0;31mKeyError\u001b[0m: 'county_name'"
          ]
        }
      ]
    },
    {
      "cell_type": "code",
      "metadata": {
        "colab": {
          "base_uri": "https://localhost:8080/"
        },
        "id": "K3eJlQ9wjsmI",
        "outputId": "31bfc4bb-7e9a-4766-ffc7-a0980d4be266"
      },
      "source": [
        "so2_aq_data.to_gbq(destination_table= 'aqi_data.so2_aq_data_18_21', \n",
        "          project_id='cdss-datathon-327823', \n",
        "          if_exists='replace', \n",
        "          progress_bar=True)"
      ],
      "execution_count": 33,
      "outputs": [
        {
          "output_type": "stream",
          "name": "stderr",
          "text": [
            "1it [01:06, 66.29s/it]\n"
          ]
        }
      ]
    },
    {
      "cell_type": "code",
      "metadata": {
        "id": "uP8xasELxx-h"
      },
      "source": [
        "# Reading\n",
        "cali_fire_log = pd.read_csv('/gdrive/My Drive/CDSS-Hackathon-21/California_Fire_Perimeters.csv', index_col=0)"
      ],
      "execution_count": 38,
      "outputs": []
    },
    {
      "cell_type": "code",
      "metadata": {
        "id": "YE23TDjDx85y"
      },
      "source": [
        "# Standardizing Column names\n",
        "cali_fire_log.columns = cali_fire_log.columns.str.replace(' ', '_') # replacing spaces (' ') with  underscore.\n",
        "cali_fire_log.columns = cali_fire_log.columns.str.replace('-', '_') # replacing hyphens ('-') with underscore\n",
        "cali_fire_log.columns = cali_fire_log.columns.str.replace('.', '_') # replacing hyphens ('-') with underscore\n",
        "cali_fire_log.columns= cali_fire_log.columns.str.lower() # converting column names to lower case"
      ],
      "execution_count": 39,
      "outputs": []
    },
    {
      "cell_type": "code",
      "metadata": {
        "colab": {
          "base_uri": "https://localhost:8080/"
        },
        "id": "cGAPHZ8ByI7S",
        "outputId": "c5a756e1-16a4-411c-bb59-d6518d3552a6"
      },
      "source": [
        "cali_fire_log.to_gbq(destination_table= 'aqi_data.cali_fire_log', \n",
        "          project_id='cdss-datathon-327823', \n",
        "          if_exists='replace', \n",
        "          progress_bar=True)"
      ],
      "execution_count": 40,
      "outputs": [
        {
          "output_type": "stream",
          "name": "stderr",
          "text": [
            "1it [00:02,  2.42s/it]\n"
          ]
        }
      ]
    }
  ]
}